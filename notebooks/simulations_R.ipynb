{
  "nbformat": 4,
  "nbformat_minor": 0,
  "metadata": {
    "colab": {
      "name": "simulations_R.ipynb",
      "provenance": [],
      "collapsed_sections": [],
      "authorship_tag": "ABX9TyOFzuH0A3RpRD7rqnPnkKMu",
      "include_colab_link": true
    },
    "kernelspec": {
      "name": "ir",
      "display_name": "R"
    }
  },
  "cells": [
    {
      "cell_type": "markdown",
      "metadata": {
        "id": "view-in-github",
        "colab_type": "text"
      },
      "source": [
        "<a href=\"https://colab.research.google.com/github/miaojingang/mc/blob/master/notebooks/simulations_R.ipynb\" target=\"_parent\"><img src=\"https://colab.research.google.com/assets/colab-badge.svg\" alt=\"Open In Colab\"/></a>"
      ]
    },
    {
      "cell_type": "markdown",
      "metadata": {
        "id": "G_sfXNylvybs",
        "colab_type": "text"
      },
      "source": [
        "In this notebook, I replicate some simulations in the papers and demonstrate code usage."
      ]
    },
    {
      "cell_type": "code",
      "metadata": {
        "id": "n7AnmmMPc3Iu",
        "colab_type": "code",
        "colab": {
          "base_uri": "https://localhost:8080/",
          "height": 52
        },
        "outputId": "c42a211a-0b27-480f-886f-19861f97695a"
      },
      "source": [
        "library(devtools)"
      ],
      "execution_count": 1,
      "outputs": [
        {
          "output_type": "stream",
          "text": [
            "Loading required package: usethis\n",
            "\n"
          ],
          "name": "stderr"
        }
      ]
    },
    {
      "cell_type": "code",
      "metadata": {
        "id": "OBctC-3wcjxt",
        "colab_type": "code",
        "colab": {
          "base_uri": "https://localhost:8080/",
          "height": 298
        },
        "outputId": "39fc726e-a7f9-4124-bc6d-c20a2e945765"
      },
      "source": [
        "install_github(\"facebookresearch/mc\")\n",
        "install.packages(\"data.table\")"
      ],
      "execution_count": 2,
      "outputs": [
        {
          "output_type": "stream",
          "text": [
            "Downloading GitHub repo facebookresearch/mc@HEAD\n",
            "\n"
          ],
          "name": "stderr"
        },
        {
          "output_type": "stream",
          "text": [
            "\n",
            "\u001b[32m✔\u001b[39m  \u001b[90mchecking for file ‘/tmp/Rtmpur36a8/remotes662e73a82/facebookresearch-mc-632289b/DESCRIPTION’\u001b[39m\u001b[36m\u001b[39m\n",
            "\u001b[90m─\u001b[39m\u001b[90m  \u001b[39m\u001b[90mpreparing ‘mc’:\u001b[39m\u001b[36m\u001b[39m\n",
            "\u001b[32m✔\u001b[39m  \u001b[90mchecking DESCRIPTION meta-information\u001b[39m\u001b[36m\u001b[39m\n",
            "\u001b[90m─\u001b[39m\u001b[90m  \u001b[39m\u001b[90mchecking for LF line-endings in source and make files and shell scripts\u001b[39m\u001b[36m\u001b[39m\n",
            "\u001b[90m─\u001b[39m\u001b[90m  \u001b[39m\u001b[90mchecking for empty or unneeded directories\u001b[39m\u001b[36m\u001b[39m\n",
            "\u001b[90m─\u001b[39m\u001b[90m  \u001b[39m\u001b[90mbuilding ‘mc_0.0.2.tar.gz’\u001b[39m\u001b[36m\u001b[39m\n",
            "   \n"
          ],
          "name": "stdout"
        },
        {
          "output_type": "stream",
          "text": [
            "Installing package into ‘/usr/local/lib/R/site-library’\n",
            "(as ‘lib’ is unspecified)\n",
            "\n",
            "Installing package into ‘/usr/local/lib/R/site-library’\n",
            "(as ‘lib’ is unspecified)\n",
            "\n"
          ],
          "name": "stderr"
        }
      ]
    },
    {
      "cell_type": "code",
      "metadata": {
        "id": "q6Di1FSXc0OI",
        "colab_type": "code",
        "colab": {}
      },
      "source": [
        "library(mc)\n",
        "library(data.table)"
      ],
      "execution_count": 3,
      "outputs": []
    },
    {
      "cell_type": "code",
      "metadata": {
        "id": "Xl2lagYadEky",
        "colab_type": "code",
        "colab": {}
      },
      "source": [
        "#@title function mc {form-width: \"20%\"}\n",
        "one_run = function(\n",
        "    N=400,  # sample size for main data\n",
        "    n=100,  # sample size for calibration data\n",
        "    pie=c(0.2, 0.8),  # true membership proportions\n",
        "    p=array(rep(c(0.9, 0.1, 0.2, 0.8), 2), c(2, 2, 2)),  # miscalssification matrix\n",
        "    mu=c(0.8, 0.4),  # true mean of y\n",
        "    seed=123  # seed for random data generation\n",
        "\n",
        ") {\n",
        "    \n",
        "    # N = 400; n = 100; pie = c(0.2, 0.8);\n",
        "    # p = array(rep(c(0.9, 0.1, 0.2, 0.8), 2), c(2, 2, 2))\n",
        "    # mu = c(0.8, 0.4); seed=431\n",
        "\n",
        "    set.seed(seed)\n",
        "    m = length(pie)\n",
        "    i = rbinom(n=N + n, size=1, prob=pie[2]) + 1  # true group\n",
        "    y = rbinom(n=N + n, size=1, prob=mu[i])  # y_value depends on true group info i\n",
        "    j = rbinom(n=N + n, size=1, prob=p[2, i, y + 1]) + 1 # observed group\n",
        "\n",
        "    dt = data.table(i, y, j)[, y2 := y ^ 2]\n",
        "\n",
        "    # start calculation\n",
        "    dt_P = head(dt, N)\n",
        "    dt_V = tail(dt, n)\n",
        "\n",
        "    n_jd_P = c(dt_P[, .N, keyby=j]$N)\n",
        "    y_sum_jd_P = c(dt_P[, sum(y), keyby=j]$V1)\n",
        "    n_ji_V =  as.matrix(dcast(dt_V, j ~ i, fun.aggregate = length))[, -1]\n",
        "    y_sum_ji_V = as.matrix(dcast(dt_V, j ~ i, fun.aggregate = sum, value.var = \"y\"))[, -1]\n",
        "    y2_sum_ji_V = as.matrix(dcast(dt_V, j ~ i, fun.aggregate = sum, value.var = \"y2\"))[, -1]\n",
        "\n",
        "    # get estimates\n",
        "    mom = mc::mc_mom(n_jd_P, y_sum_jd_P, n_ji_V, y_sum_ji_V)\n",
        "    rmle = mc::mc_rmle(n_jd_P,  y_sum_jd_P, n_ji_V, y_sum_ji_V, y2_sum_ji_V)\n",
        "    out = cbind(mu, mom, rmle)\n",
        "\n",
        "    for (idx in 2 : (ncol(out) - 1)) {\n",
        "        if (sum(out[, idx] < 0) + sum(out[, idx] > 1) >= 1) {\n",
        "            out[, idx] = NA\n",
        "        }\n",
        "    }\n",
        "\n",
        "    return(out)\n",
        "}"
      ],
      "execution_count": 4,
      "outputs": []
    },
    {
      "cell_type": "code",
      "metadata": {
        "id": "Vnk4LkWydJcH",
        "colab_type": "code",
        "colab": {
          "base_uri": "https://localhost:8080/",
          "height": 562
        },
        "outputId": "b3a08a99-c6cc-448c-fbbc-834e70d7ac64"
      },
      "source": [
        "#@title function simulation {form-width: \"20%\"}\n",
        "simulation = function(n_reps=1000, verbose=TRUE) {\n",
        "  # n_reps=400; verbose=TRUE; args=[]; kwargs={}\n",
        "\n",
        "    res = do.call(rbind, lapply(1 : n_reps, function(seed) {one_run(seed=seed)}))\n",
        "    res = data.table(res)\n",
        "    res[, param := rep(c(\"mu1\", \"mu2\"), n_reps)]\n",
        "    pct_bad = colMeans(is.na(res))\n",
        " \n",
        "    est_cols = setdiff(names(res), c(\"mu\", \"param\", \"mak_li_var\"))\n",
        "    err = copy(res)\n",
        "    err[, (est_cols) := lapply(.SD, \"-\", err$mu), .SDcols=est_cols]\n",
        " \n",
        "    bias = err[, lapply(.SD, mean, na.rm=TRUE), by=.(param), .SDcols=est_cols]\n",
        "    mse = err[, lapply(.SD^2, mean, na.rm=TRUE), by=.(param), .SDcols=est_cols]\n",
        "\n",
        "\n",
        "    estimated_var = err[, mean(mak_li_var, na.rm=TRUE), by=.(param)]\n",
        "    empirical_var = err[, var(mak_li, na.rm=TRUE), by=.(param)]\n",
        "\n",
        "    if (verbose) {\n",
        "        print(head(res))\n",
        "        cat(\"\\n\\nbias:\\n\"); print(bias)\n",
        "        cat(\"\\n\\nmse:\\n\"); print(mse)\n",
        "        cat(\"\\n\\nestimated_var\\n\"); print(estimated_var)\n",
        "        cat(\"\\n\\nempirical_var\\n\"); print(empirical_var)\n",
        "\n",
        "    }\n",
        "\n",
        "}\n",
        "\n",
        "simulation()"
      ],
      "execution_count": 9,
      "outputs": [
        {
          "output_type": "stream",
          "text": [
            "    mu     naive validation    no_y_V  with_y_V    mak_li  mak_li_var param\n",
            "1: 0.8 0.6222222  0.8695652        NA 0.8551084 0.8576355 0.003876251   mu1\n",
            "2: 0.4 0.3849057  0.4415584        NA 0.3833648 0.3859078 0.001014543   mu2\n",
            "3: 0.8 0.6223776  0.7727273        NA 0.8574663 0.8181515 0.005912905   mu1\n",
            "4: 0.4 0.4163424  0.3717949        NA 0.3939839 0.3974948 0.001034175   mu2\n",
            "5: 0.8 0.6268657  0.7500000 0.7488856 0.7526997 0.7762974 0.004786532   mu1\n",
            "6: 0.4 0.4210526  0.4342105 0.4050926 0.4112221 0.4030330 0.001005772   mu2\n",
            "\n",
            "\n",
            "bias:\n",
            "   param       naive   validation       no_y_V     with_y_V       mak_li\n",
            "1:   mu1 -0.18841189 -0.008645615 -0.018648243 -0.003048568 -0.002562847\n",
            "2:   mu2  0.01314251  0.001977685  0.001351776  0.001719917  0.001912470\n",
            "\n",
            "\n",
            "mse:\n",
            "   param       naive  validation      no_y_V     with_y_V       mak_li\n",
            "1:   mu1 0.037273789 0.008025549 0.010482617 0.0066875830 0.0059830399\n",
            "2:   mu2 0.001084084 0.002931810 0.001202868 0.0008498328 0.0009464252\n",
            "\n",
            "\n",
            "estimated_var\n",
            "   param           V1\n",
            "1:   mu1 0.0059822190\n",
            "2:   mu2 0.0009227695\n",
            "\n",
            "\n",
            "empirical_var\n",
            "   param           V1\n",
            "1:   mu1 0.0059824542\n",
            "2:   mu2 0.0009437113\n"
          ],
          "name": "stdout"
        }
      ]
    },
    {
      "cell_type": "code",
      "metadata": {
        "id": "ugPyO4qUdvzJ",
        "colab_type": "code",
        "colab": {}
      },
      "source": [
        ""
      ],
      "execution_count": null,
      "outputs": []
    }
  ]
}